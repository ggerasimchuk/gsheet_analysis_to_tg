{
 "cells": [
  {
   "cell_type": "code",
   "execution_count": 1,
   "id": "02d8d143",
   "metadata": {},
   "outputs": [],
   "source": [
    "import requests\n",
    "import pandas as pd\n",
    "import seaborn as sns\n",
    "import matplotlib.pyplot as plt"
   ]
  },
  {
   "cell_type": "code",
   "execution_count": null,
   "id": "91cf71b6",
   "metadata": {},
   "outputs": [],
   "source": []
  },
  {
   "cell_type": "code",
   "execution_count": 24,
   "id": "d34bae95",
   "metadata": {},
   "outputs": [
    {
     "data": {
      "text/plain": [
       "'2020-06-15'"
      ]
     },
     "execution_count": 24,
     "metadata": {},
     "output_type": "execute_result"
    }
   ],
   "source": [
    "df = pd.read_csv('step_4_lesson_7.csv')\n",
    "df['date'][0]"
   ]
  },
  {
   "cell_type": "code",
   "execution_count": 13,
   "id": "7183866c",
   "metadata": {},
   "outputs": [],
   "source": [
    "user_type = df.groupby('user_type', as_index = False)\\\n",
    "    .agg({'visits':'sum'})\n",
    "user_type['perc'] = 100 * user_type['visits'] / user_type['visits'].sum()"
   ]
  },
  {
   "cell_type": "code",
   "execution_count": 14,
   "id": "c551e856",
   "metadata": {},
   "outputs": [
    {
     "data": {
      "text/html": [
       "<div>\n",
       "<style scoped>\n",
       "    .dataframe tbody tr th:only-of-type {\n",
       "        vertical-align: middle;\n",
       "    }\n",
       "\n",
       "    .dataframe tbody tr th {\n",
       "        vertical-align: top;\n",
       "    }\n",
       "\n",
       "    .dataframe thead th {\n",
       "        text-align: right;\n",
       "    }\n",
       "</style>\n",
       "<table border=\"1\" class=\"dataframe\">\n",
       "  <thead>\n",
       "    <tr style=\"text-align: right;\">\n",
       "      <th></th>\n",
       "      <th>user_type</th>\n",
       "      <th>visits</th>\n",
       "      <th>perc</th>\n",
       "    </tr>\n",
       "  </thead>\n",
       "  <tbody>\n",
       "    <tr>\n",
       "      <th>0</th>\n",
       "      <td>People</td>\n",
       "      <td>417.0</td>\n",
       "      <td>70.20202</td>\n",
       "    </tr>\n",
       "    <tr>\n",
       "      <th>1</th>\n",
       "      <td>Robots</td>\n",
       "      <td>177.0</td>\n",
       "      <td>29.79798</td>\n",
       "    </tr>\n",
       "  </tbody>\n",
       "</table>\n",
       "</div>"
      ],
      "text/plain": [
       "  user_type  visits      perc\n",
       "0    People   417.0  70.20202\n",
       "1    Robots   177.0  29.79798"
      ]
     },
     "execution_count": 14,
     "metadata": {},
     "output_type": "execute_result"
    }
   ],
   "source": [
    "user_type"
   ]
  },
  {
   "cell_type": "code",
   "execution_count": 31,
   "id": "d1e459f5",
   "metadata": {
    "scrolled": false
   },
   "outputs": [
    {
     "data": {
      "text/plain": [
       "numpy.float64"
      ]
     },
     "execution_count": 31,
     "metadata": {},
     "output_type": "execute_result"
    }
   ],
   "source": [
    "yandex_visits = df.query('browser == \"Yandex Browser\"')['visits'].sum()\n",
    "type(yandex_visits)"
   ]
  },
  {
   "cell_type": "code",
   "execution_count": 36,
   "id": "8d689f25",
   "metadata": {},
   "outputs": [
    {
     "name": "stdout",
     "output_type": "stream",
     "text": [
      "Today, 2020-06-15, were 54 users from Yandex Browser\n"
     ]
    }
   ],
   "source": [
    "print(\"Today, \" + df['date'][0] + \", were \" + str(int(yandex_visits)) + \" users from Yandex Browser\")"
   ]
  },
  {
   "cell_type": "code",
   "execution_count": 39,
   "id": "41f65df6",
   "metadata": {},
   "outputs": [],
   "source": [
    "yandex = df.query('browser == \"Yandex Browser\"')\n",
    "\n",
    "# посчитаем долю ботов и реальных людей от общего числа пользователей\n",
    "bots_n_people = yandex.groupby('user_type', as_index=False).agg({'visits': 'sum'})\n",
    "bots_n_people['perc'] = 100 * bots_n_people['visits'] / bots_n_people['visits'].sum()\n",
    "bots = bots_n_people.query('user_type == \"Robots\"')['perc']\n",
    "people = bots_n_people.query('user_type == \"People\"')['perc']"
   ]
  },
  {
   "cell_type": "code",
   "execution_count": 42,
   "id": "e760ee13",
   "metadata": {},
   "outputs": [
    {
     "data": {
      "text/html": [
       "<div>\n",
       "<style scoped>\n",
       "    .dataframe tbody tr th:only-of-type {\n",
       "        vertical-align: middle;\n",
       "    }\n",
       "\n",
       "    .dataframe tbody tr th {\n",
       "        vertical-align: top;\n",
       "    }\n",
       "\n",
       "    .dataframe thead th {\n",
       "        text-align: right;\n",
       "    }\n",
       "</style>\n",
       "<table border=\"1\" class=\"dataframe\">\n",
       "  <thead>\n",
       "    <tr style=\"text-align: right;\">\n",
       "      <th></th>\n",
       "      <th>user_type</th>\n",
       "      <th>visits</th>\n",
       "      <th>perc</th>\n",
       "    </tr>\n",
       "  </thead>\n",
       "  <tbody>\n",
       "    <tr>\n",
       "      <th>0</th>\n",
       "      <td>People</td>\n",
       "      <td>47.0</td>\n",
       "      <td>87.037037</td>\n",
       "    </tr>\n",
       "    <tr>\n",
       "      <th>1</th>\n",
       "      <td>Robots</td>\n",
       "      <td>7.0</td>\n",
       "      <td>12.962963</td>\n",
       "    </tr>\n",
       "  </tbody>\n",
       "</table>\n",
       "</div>"
      ],
      "text/plain": [
       "  user_type  visits       perc\n",
       "0    People    47.0  87.037037\n",
       "1    Robots     7.0  12.962963"
      ]
     },
     "execution_count": 42,
     "metadata": {},
     "output_type": "execute_result"
    }
   ],
   "source": [
    "bots_n_people"
   ]
  },
  {
   "cell_type": "code",
   "execution_count": 50,
   "id": "0e34516f",
   "metadata": {},
   "outputs": [
    {
     "data": {
      "text/plain": [
       "12.962962962962964"
      ]
     },
     "execution_count": 50,
     "metadata": {},
     "output_type": "execute_result"
    }
   ],
   "source": [
    "bots_n_people['perc']"
   ]
  },
  {
   "cell_type": "code",
   "execution_count": 52,
   "id": "62a294ea",
   "metadata": {},
   "outputs": [
    {
     "data": {
      "text/plain": [
       "12.963"
      ]
     },
     "execution_count": 52,
     "metadata": {},
     "output_type": "execute_result"
    }
   ],
   "source": [
    "round(bots.iloc[0], 3)"
   ]
  },
  {
   "cell_type": "code",
   "execution_count": null,
   "id": "5a2e1758",
   "metadata": {},
   "outputs": [],
   "source": []
  }
 ],
 "metadata": {
  "kernelspec": {
   "display_name": "Python 3 (ipykernel)",
   "language": "python",
   "name": "python3"
  },
  "language_info": {
   "codemirror_mode": {
    "name": "ipython",
    "version": 3
   },
   "file_extension": ".py",
   "mimetype": "text/x-python",
   "name": "python",
   "nbconvert_exporter": "python",
   "pygments_lexer": "ipython3",
   "version": "3.11.3"
  }
 },
 "nbformat": 4,
 "nbformat_minor": 5
}
